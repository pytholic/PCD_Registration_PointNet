{
 "cells": [
  {
   "cell_type": "code",
   "execution_count": 1,
   "id": "34ef23a3",
   "metadata": {},
   "outputs": [
    {
     "name": "stdout",
     "output_type": "stream",
     "text": [
      "Jupyter environment detected. Enabling Open3D WebVisualizer.\n",
      "[Open3D INFO] WebRTC GUI backend enabled.\n",
      "[Open3D INFO] WebRTCWindowSystem: HTTP handshake server disabled.\n"
     ]
    }
   ],
   "source": [
    "import numpy as np\n",
    "import os\n",
    "import torch\n",
    "from torch.utils.data import Dataset\n",
    "\n",
    "from utils import readpcd\n",
    "from utils import pc_normalize, random_select_points, shift_point_cloud, \\\n",
    "    jitter_point_cloud, generate_random_rotation_matrix, \\\n",
    "    generate_random_tranlation_vector, transform"
   ]
  },
  {
   "cell_type": "code",
   "execution_count": null,
   "id": "2830dfae",
   "metadata": {},
   "outputs": [],
   "source": [
    "root = '/home/trojan/skia_projects/pcd_registration/pointnet_reg/PCReg.PyTorch/dataset'\n",
    "dirname = 'train_data'\n"
   ]
  },
  {
   "cell_type": "code",
   "execution_count": null,
   "id": "addce258",
   "metadata": {},
   "outputs": [],
   "source": []
  }
 ],
 "metadata": {
  "kernelspec": {
   "display_name": "Python 3 (ipykernel)",
   "language": "python",
   "name": "python3"
  },
  "language_info": {
   "codemirror_mode": {
    "name": "ipython",
    "version": 3
   },
   "file_extension": ".py",
   "mimetype": "text/x-python",
   "name": "python",
   "nbconvert_exporter": "python",
   "pygments_lexer": "ipython3",
   "version": "3.8.11"
  }
 },
 "nbformat": 4,
 "nbformat_minor": 5
}
