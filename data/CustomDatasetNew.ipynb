{
 "cells": [
  {
   "cell_type": "code",
   "execution_count": 1,
   "id": "34ef23a3",
   "metadata": {},
   "outputs": [
    {
     "name": "stdout",
     "output_type": "stream",
     "text": [
      "Jupyter environment detected. Enabling Open3D WebVisualizer.\n",
      "[Open3D INFO] WebRTC GUI backend enabled.\n",
      "[Open3D INFO] WebRTCWindowSystem: HTTP handshake server disabled.\n"
     ]
    }
   ],
   "source": [
    "import numpy as np\n",
    "import os\n",
    "import torch\n",
    "from torch.utils.data import Dataset\n",
    "\n",
    "from utils import readpcd\n",
    "from utils import pc_normalize, random_select_points, shift_point_cloud, \\\n",
    "    jitter_point_cloud, generate_random_rotation_matrix, \\\n",
    "    generate_random_tranlation_vector, transform"
   ]
  },
  {
   "cell_type": "code",
   "execution_count": 2,
   "id": "2830dfae",
   "metadata": {},
   "outputs": [
    {
     "name": "stdout",
     "output_type": "stream",
     "text": [
      "160\n"
     ]
    }
   ],
   "source": [
    "root = '/home/trojan/skia_projects/pcd_registration/pointnet_reg/PCReg.PyTorch/dataset'\n",
    "dirname = 'train_data'\n",
    "path = os.path.join(root, dirname)\n",
    "\n",
    "files = [os.path.join(path, item) for item in sorted(os.listdir(path))]\n",
    "print(len(files))"
   ]
  },
  {
   "cell_type": "code",
   "execution_count": null,
   "id": "addce258",
   "metadata": {},
   "outputs": [],
   "source": [
    "class CustomData(Dataset):\n",
    "    def __init__(self, root, npts, train=True):\n",
    "        super(CustomData, self).__init__()\n",
    "        dirname = 'train_data' if train else 'val_data'\n",
    "        path = os.path.join(root, dirname)\n",
    "        self.train = train\n",
    "        self.files = [os.path.join(path, item) for item in sorted(os.listdir(path))]\n",
    "        self.npts = npts\n",
    "\n",
    "    def __getitem__(self, item):\n",
    "        file = self.files[item]\n",
    "        ref_cloud = readpcd(file, rtype='npy')\n",
    "        ref_cloud = random_select_points(ref_cloud, m=self.npts)\n",
    "        ref_cloud = pc_normalize(ref_cloud)\n",
    "        R, t = generate_random_rotation_matrix(-20, 20), \\\n",
    "               generate_random_tranlation_vector(-0.5, 0.5)\n",
    "        src_cloud = transform(ref_cloud, R, t)\n",
    "        if self.train:\n",
    "            ref_cloud = jitter_point_cloud(ref_cloud)\n",
    "            src_cloud = jitter_point_cloud(src_cloud)\n",
    "        return ref_cloud, src_cloud, R, t\n",
    "\n",
    "    def __len__(self):\n",
    "        return len(self.files)"
   ]
  }
 ],
 "metadata": {
  "kernelspec": {
   "display_name": "Python 3 (ipykernel)",
   "language": "python",
   "name": "python3"
  },
  "language_info": {
   "codemirror_mode": {
    "name": "ipython",
    "version": 3
   },
   "file_extension": ".py",
   "mimetype": "text/x-python",
   "name": "python",
   "nbconvert_exporter": "python",
   "pygments_lexer": "ipython3",
   "version": "3.8.11"
  }
 },
 "nbformat": 4,
 "nbformat_minor": 5
}
